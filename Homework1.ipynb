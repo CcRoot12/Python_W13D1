{
 "cells": [
  {
   "cell_type": "code",
   "execution_count": 1,
   "id": "cb960048-9d0e-4e3c-8219-9c9559fa7192",
   "metadata": {
    "tags": []
   },
   "outputs": [
    {
     "name": "stdout",
     "output_type": "stream",
     "text": [
      "25\n"
     ]
    }
   ],
   "source": [
    "Studenti_A=25\n",
    "print(Studenti_A)"
   ]
  },
  {
   "cell_type": "code",
   "execution_count": 3,
   "id": "4faafd82-1084-4f60-9cc2-7dde885159f7",
   "metadata": {
    "tags": []
   },
   "outputs": [
    {
     "name": "stdout",
     "output_type": "stream",
     "text": [
      "3\n"
     ]
    }
   ],
   "source": [
    "Studenti_B=3\n",
    "print(Studenti_B)\n"
   ]
  },
  {
   "cell_type": "code",
   "execution_count": 5,
   "id": "e5901589-f629-45ea-9d71-b25a238858d4",
   "metadata": {
    "tags": []
   },
   "outputs": [
    {
     "name": "stdout",
     "output_type": "stream",
     "text": [
      "28\n"
     ]
    }
   ],
   "source": [
    "Studenti_tot=Studenti_A+Studenti_B\n",
    "print(Studenti_tot)"
   ]
  },
  {
   "cell_type": "code",
   "execution_count": 9,
   "id": "0669f363-6148-4861-bbf9-3f6316c5ef51",
   "metadata": {
    "tags": []
   },
   "outputs": [
    {
     "name": "stdout",
     "output_type": "stream",
     "text": [
      "Epicode\n"
     ]
    }
   ],
   "source": [
    "Titolo=\"Epicode\"\n",
    "print(Titolo)"
   ]
  },
  {
   "cell_type": "code",
   "execution_count": 13,
   "id": "6e95489f-0295-4d81-a233-c7976089d6ef",
   "metadata": {
    "tags": []
   },
   "outputs": [
    {
     "name": "stdout",
     "output_type": "stream",
     "text": [
      "12\n"
     ]
    }
   ],
   "source": [
    "x=10\n",
    "x=10+2\n",
    "print(x)"
   ]
  },
  {
   "cell_type": "code",
   "execution_count": 15,
   "id": "b38fac11-e73f-4209-ad58-e120a3513395",
   "metadata": {
    "tags": []
   },
   "outputs": [
    {
     "name": "stdout",
     "output_type": "stream",
     "text": [
      "36\n"
     ]
    }
   ],
   "source": [
    "x*=3\n",
    "print(x)"
   ]
  },
  {
   "cell_type": "code",
   "execution_count": 21,
   "id": "00fdc350-ea7e-43c6-a597-f7bd19265b41",
   "metadata": {
    "tags": []
   },
   "outputs": [
    {
     "name": "stdout",
     "output_type": "stream",
     "text": [
      "7\n"
     ]
    }
   ],
   "source": [
    "str1 = \"Windows\"\n",
    "print(len(\"Windows\"))"
   ]
  },
  {
   "cell_type": "code",
   "execution_count": 23,
   "id": "776e32eb-53c6-4e21-90cd-41a4e0adb20e",
   "metadata": {
    "tags": []
   },
   "outputs": [
    {
     "name": "stdout",
     "output_type": "stream",
     "text": [
      "5\n",
      "10\n",
      "4\n"
     ]
    }
   ],
   "source": [
    "str2 = \"Excel\" \n",
    "str3 = \"Powerpoint\"\n",
    "str4 = \"Word\"\n",
    "print(len(\"Excel\"))\n",
    "print(len(\"Powerpoint\"))\n",
    "print(len(\"Word\"))"
   ]
  },
  {
   "cell_type": "code",
   "execution_count": 29,
   "id": "60e69eaa-7418-4c84-b6aa-3a3e88c66b69",
   "metadata": {
    "tags": []
   },
   "outputs": [
    {
     "name": "stdout",
     "output_type": "stream",
     "text": [
      "3600\n"
     ]
    }
   ],
   "source": [
    "Anno=60*60\n",
    "print(Anno)\n"
   ]
  },
  {
   "cell_type": "code",
   "execution_count": 31,
   "id": "27e0b101-8fb0-4566-99a3-4d0834af0b34",
   "metadata": {
    "tags": []
   },
   "outputs": [
    {
     "name": "stdout",
     "output_type": "stream",
     "text": [
      "86400\n"
     ]
    }
   ],
   "source": [
    "Anno *= 24\n",
    "print(Anno)"
   ]
  },
  {
   "cell_type": "code",
   "execution_count": 35,
   "id": "7b123045-5054-4c57-a799-5b96d6a509a8",
   "metadata": {
    "tags": []
   },
   "outputs": [
    {
     "name": "stdout",
     "output_type": "stream",
     "text": [
      "11542176000\n"
     ]
    }
   ],
   "source": [
    "Anno *=365\n",
    "print(Anno)"
   ]
  },
  {
   "cell_type": "code",
   "execution_count": 52,
   "id": "ad26a94e-aa46-45c3-9661-7e46e41e3ea3",
   "metadata": {
    "tags": []
   },
   "outputs": [
    {
     "name": "stdout",
     "output_type": "stream",
     "text": [
      "I AM STUDYING PYTHON\n",
      "i am studying python\n",
      "I am studying a lot\n",
      "I am studying a lot\n"
     ]
    }
   ],
   "source": [
    "my_string = \"I am studying Python\"\n",
    "print(str.upper(my_string))\n",
    "print(str.lower(my_string))\n",
    "replaced_text=my_string.replace(\"Python\", \"a lot\")\n",
    "print(replaced_text)\n",
    "print(replaced_text.strip())"
   ]
  },
  {
   "cell_type": "code",
   "execution_count": 58,
   "id": "520a823f-c73d-48dd-aa0d-de9feed83f49",
   "metadata": {
    "tags": []
   },
   "outputs": [
    {
     "name": "stdout",
     "output_type": "stream",
     "text": [
      "I am studying python\n"
     ]
    }
   ],
   "source": [
    "text=\"    I am studying python   \"\n",
    "print(text.strip())"
   ]
  },
  {
   "cell_type": "code",
   "execution_count": null,
   "id": "d708bd48-c257-4f4f-8853-c4360f3904b6",
   "metadata": {},
   "outputs": [],
   "source": []
  }
 ],
 "metadata": {
  "kernelspec": {
   "display_name": "Python 3 (ipykernel)",
   "language": "python",
   "name": "python3"
  },
  "language_info": {
   "codemirror_mode": {
    "name": "ipython",
    "version": 3
   },
   "file_extension": ".py",
   "mimetype": "text/x-python",
   "name": "python",
   "nbconvert_exporter": "python",
   "pygments_lexer": "ipython3",
   "version": "3.11.7"
  }
 },
 "nbformat": 4,
 "nbformat_minor": 5
}
